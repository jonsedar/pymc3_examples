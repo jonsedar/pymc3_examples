{
 "cells": [
  {
   "cell_type": "markdown",
   "metadata": {},
   "source": [
    "##### **Jon Sedar Personal Project**\n",
    "\n",
    "### PyMC3 Examples `pymc3_examples`\n",
    "\n",
    "###### _2019Q4_\n",
    "\n",
    "# GLM: Robust Regression With Outlier Detection\n",
    "\n",
    "`glm-robust-regression-with-outlier-detection.ipynb`\n",
    "\n",
    "Using PyMC3 for Robust Regression with Outlier Detection using the Hogg 2010 Signal vs Noise method. Crucially, this uses a custom likelihood function as a mixture of two likelihoods, one for the main data-generating function, and one for outliers.\n",
    "\n",
    "+ This is a complementary approach to the Student-T robust regression as illustrated in Thomas Wiecki's notebook in the [PyMC3 documentation](http://pymc-devs.github.io/pymc3/GLM-robust/), and that approach is also compared here.\n",
    "+ This model returns a robust estimate of linear model coefficients and an indication of which datapoints (if any) are outliers.\n",
    "+ The likelihood evaluation is essentially a copy of eqn 17 in \"Data analysis recipes: Fitting a model to data\" - [Hogg 2010](http://arxiv.org/abs/1008.4686).\n",
    "+ The model is adapted specifically from Jake Vanderplas' [implementation](http://www.astroml.org/book_figures/chapter8/fig_outlier_rejection.html) (3rd model tested).\n",
    "+ The dataset is tiny and hardcoded into this Notebook. It contains errors in both the x and y, but we will deal here with only errors in y.\n",
    "\n",
    "\n",
    "## Contents\n",
    "\n",
    "+ [Setup](#Setup)\n",
    "    + [Installation Notes](#Installation-Notes)\n",
    "    + [Imports](#Imports)\n",
    "    + [Local Functions](#Local-Functions)\n",
    "    + [Load Data](#Load-Data)\n",
    "\n",
    "\n",
    "+ [1. Basic EDA](#1.-Basic-EDA)\n",
    "\n",
    "\n",
    "+ [2. Basic Feature Engineering](#2.-Basic-Feature-Engineering)\n",
    "\n",
    "\n",
    "+ [3. Design, Fit and Test Model](#3.-Design,-Fit-and-Test-Model)\n",
    "    + [3.2 Build Model](#3.2-Build-Model)\n",
    "    + [3.3 Fit Model](#3.3-Fit-Model)\n",
    "    + [3.4 Validate Model on Holdout Set](#3.4-Validate-Model-on-Holdout-Set)\n",
    "\n"
   ]
  },
  {
   "cell_type": "markdown",
   "metadata": {},
   "source": [
    "# Setup"
   ]
  },
  {
   "cell_type": "markdown",
   "metadata": {},
   "source": [
    "## Installation Notes"
   ]
  },
  {
   "cell_type": "markdown",
   "metadata": {},
   "source": [
    "See the project [README](https://github.com/jonsedar/pymc3_examples/blob/master/README.md) for full details. For MVP reproduction, see following notes"
   ]
  },
  {
   "cell_type": "markdown",
   "metadata": {},
   "source": [
    "##### General:\n",
    "\n",
    "+ This is a Python 3.6 project using latest available [PyMC3](https://github.com/pymc-devs/pymc3) at time of writing `pymc3=3.7`\n",
    "+ Developed in 2019Q4 using [ContinuumIO Anaconda](https://www.continuum.io/downloads) distribution on a Macbook 2017 1.4GHz i7 Dual Core, 16GB RAM, OSX 10.14.6\n",
    "+ If runs become unstable or Theano throws weird errors, first try clearing the cache `theano-cache clear` and rerunning the notebook.\n",
    "\n",
    "\n",
    "##### Package Requirements (shown as a condaenv YAML)\n",
    "\n",
    "```\n",
    "$> less conda_env_pymc3_examples.yml\n",
    "\n",
    "    name: pymc3_examples\n",
    "    channels:\n",
    "    - defaults\n",
    "    dependencies:\n",
    "    - python==3.6.*\n",
    "    - cython\n",
    "    - ipython\n",
    "    - jupyter\n",
    "    - mkl\n",
    "    - mkl-service\n",
    "    - numpy\n",
    "    - scipy\n",
    "    - matplotlib\n",
    "    - pandas\n",
    "    - scikit-learn\n",
    "    - seaborn\n",
    "    - patsy\n",
    "    - statsmodels\n",
    "    - tqdm\n",
    "    - watermark\n",
    "    - sphinx\n",
    "    - pytest\n",
    "    - nose\n",
    "    - parameterized\n",
    "    - pip\n",
    "\n",
    "$> conda env create --file conda_env_pymc3_examples.yml\n",
    "$> source activate pymc3_examples\n",
    "$> pip install pymc3==3.7 theano arviz daft\n",
    "$> jupyter notebook\n",
    "```"
   ]
  },
  {
   "cell_type": "code",
   "execution_count": 1,
   "metadata": {},
   "outputs": [],
   "source": [
    "%matplotlib inline\n",
    "%qtconsole --style=monokai --ConsoleWidget.font_size=11"
   ]
  },
  {
   "cell_type": "markdown",
   "metadata": {},
   "source": [
    "## Imports"
   ]
  },
  {
   "cell_type": "code",
   "execution_count": 3,
   "metadata": {},
   "outputs": [
    {
     "name": "stdout",
     "output_type": "stream",
     "text": [
      "The watermark extension is already loaded. To reload it, use:\n",
      "  %reload_ext watermark\n",
      "2019-10-25 10:38:04 \n",
      "\n",
      "CPython 3.6.9\n",
      "IPython 7.8.0\n",
      "\n",
      "numpy 1.17.2\n",
      "scipy 1.3.1\n",
      "matplotlib 3.1.1\n",
      "pandas 0.25.2\n",
      "seaborn 0.9.0\n",
      "pymc3 3.7\n",
      "theano 1.0.4\n",
      "arviz 0.5.1\n",
      "\n",
      "compiler   : GCC 4.2.1 Compatible Clang 4.0.1 (tags/RELEASE_401/final)\n",
      "system     : Darwin\n",
      "release    : 18.7.0\n",
      "machine    : x86_64\n",
      "processor  : i386\n",
      "CPU cores  : 4\n",
      "interpreter: 64bit\n",
      "Git hash   : d512bffd54439550c898e2f535f507148eab035f\n"
     ]
    }
   ],
   "source": [
    "import numpy as np\n",
    "import pandas as pd\n",
    "import matplotlib.pyplot as plt\n",
    "import seaborn as sns\n",
    "\n",
    "# from scipy import stats, optimize\n",
    "import patsy as pt\n",
    "from sklearn.preprocessing import FunctionTransformer\n",
    "from sklearn.model_selection import train_test_split\n",
    "\n",
    "import pymc3 as pm\n",
    "import theano as thno\n",
    "import theano.tensor as tt\n",
    "import arviz as az\n",
    "\n",
    "sns.set(style='darkgrid', palette='muted', \n",
    "        context='notebook')\n",
    "plt.rcParams['figure.figsize'] = 16, 4\n",
    "np.random.seed(0)\n",
    "\n",
    "%load_ext watermark\n",
    "%watermark -dtmvgp numpy,scipy,matplotlib,pandas,seaborn,pymc3,theano,arviz"
   ]
  },
  {
   "cell_type": "markdown",
   "metadata": {},
   "source": [
    "## Local Functions"
   ]
  },
  {
   "cell_type": "code",
   "execution_count": null,
   "metadata": {},
   "outputs": [],
   "source": [
    "def standardize_mx(mx, colidx=0, scale=1, mns=None, sdevs=None):\n",
    "    \"\"\" To be used in a scikit-learn FunctionTransformer: \n",
    "        standardize selected cols of array with variable scale \n",
    "        See also: https://github.com/scikit-learn/scikit-learn/pull/5002\n",
    "        Set scale to 2 for a Gelman 2sd standardization\n",
    "    \"\"\"\n",
    "    if (mns is None) or (sdevs is None):\n",
    "        mns = np.nanmean(mx[:, colidx:], axis=0)\n",
    "        sdevs = np.nanstd(mx[:, colidx:], axis=0)\n",
    "\n",
    "    mxs = (mx[:, colidx:] - mns) / (scale * sdevs)\n",
    "    return np.concatenate((mx[:, :colidx], mxs), axis=1), mns, sdevs\n",
    "\n"
   ]
  },
  {
   "cell_type": "markdown",
   "metadata": {},
   "source": [
    "## Load Data"
   ]
  },
  {
   "cell_type": "markdown",
   "metadata": {},
   "source": [
    "We'll use the Hogg 2010 data available at  https://github.com/astroML/astroML/blob/master/astroML/datasets/hogg2010test.py\n",
    "\n",
    "It's a very small dataset so for convenience, it's hardcoded below"
   ]
  },
  {
   "cell_type": "code",
   "execution_count": 7,
   "metadata": {},
   "outputs": [],
   "source": [
    "#### cut & pasted directly from the fetch_hogg2010test() function\n",
    "## identical to the original dataset as hardcoded in the Hogg 2010 paper\n",
    "\n",
    "dfhogg = pd.DataFrame(np.array([[1, 201, 592, 61, 9, -0.84],\n",
    "                                 [2, 244, 401, 25, 4, 0.31],\n",
    "                                 [3, 47, 583, 38, 11, 0.64],\n",
    "                                 [4, 287, 402, 15, 7, -0.27],\n",
    "                                 [5, 203, 495, 21, 5, -0.33],\n",
    "                                 [6, 58, 173, 15, 9, 0.67],\n",
    "                                 [7, 210, 479, 27, 4, -0.02],\n",
    "                                 [8, 202, 504, 14, 4, -0.05],\n",
    "                                 [9, 198, 510, 30, 11, -0.84],\n",
    "                                 [10, 158, 416, 16, 7, -0.69],\n",
    "                                 [11, 165, 393, 14, 5, 0.30],\n",
    "                                 [12, 201, 442, 25, 5, -0.46],\n",
    "                                 [13, 157, 317, 52, 5, -0.03],\n",
    "                                 [14, 131, 311, 16, 6, 0.50],\n",
    "                                 [15, 166, 400, 34, 6, 0.73],\n",
    "                                 [16, 160, 337, 31, 5, -0.52],\n",
    "                                 [17, 186, 423, 42, 9, 0.90],\n",
    "                                 [18, 125, 334, 26, 8, 0.40],\n",
    "                                 [19, 218, 533, 16, 6, -0.78],\n",
    "                                 [20, 146, 344, 22, 5, -0.56]]),\n",
    "                   columns=['id','x','y','sigma_y','sigma_x','rho_xy'])\n",
    "\n",
    "## for convenience zero-base the 'id' and use as index\n",
    "dfhogg['id'] = dfhogg['id'] - 1\n",
    "dfhogg.set_index('id', inplace=True)"
   ]
  },
  {
   "cell_type": "markdown",
   "metadata": {},
   "source": [
    "---"
   ]
  },
  {
   "cell_type": "markdown",
   "metadata": {},
   "source": [
    "# 1. Basic EDA"
   ]
  },
  {
   "cell_type": "markdown",
   "metadata": {},
   "source": [
    "##### Exploratory Data Analysis"
   ]
  },
  {
   "cell_type": "markdown",
   "metadata": {},
   "source": [
    "Note:\n",
    "+ this is very rudimentary so we can quickly get to the `pymc3`\n",
    "+ the dataset contains errors in both the x and y, but we will deal here with only errors in y.\n",
    "+ see the [Hogg 2010 paper](https://arxiv.org/pdf/1008.4686.pdf) for more detail"
   ]
  },
  {
   "cell_type": "code",
   "execution_count": 8,
   "metadata": {},
   "outputs": [
    {
     "data": {
      "text/html": [
       "<div>\n",
       "<style scoped>\n",
       "    .dataframe tbody tr th:only-of-type {\n",
       "        vertical-align: middle;\n",
       "    }\n",
       "\n",
       "    .dataframe tbody tr th {\n",
       "        vertical-align: top;\n",
       "    }\n",
       "\n",
       "    .dataframe thead th {\n",
       "        text-align: right;\n",
       "    }\n",
       "</style>\n",
       "<table border=\"1\" class=\"dataframe\">\n",
       "  <thead>\n",
       "    <tr style=\"text-align: right;\">\n",
       "      <th></th>\n",
       "      <th>x</th>\n",
       "      <th>y</th>\n",
       "      <th>sigma_y</th>\n",
       "      <th>sigma_x</th>\n",
       "      <th>rho_xy</th>\n",
       "    </tr>\n",
       "    <tr>\n",
       "      <th>id</th>\n",
       "      <th></th>\n",
       "      <th></th>\n",
       "      <th></th>\n",
       "      <th></th>\n",
       "      <th></th>\n",
       "    </tr>\n",
       "  </thead>\n",
       "  <tbody>\n",
       "    <tr>\n",
       "      <th>0.0</th>\n",
       "      <td>201.0</td>\n",
       "      <td>592.0</td>\n",
       "      <td>61.0</td>\n",
       "      <td>9.0</td>\n",
       "      <td>-0.84</td>\n",
       "    </tr>\n",
       "    <tr>\n",
       "      <th>1.0</th>\n",
       "      <td>244.0</td>\n",
       "      <td>401.0</td>\n",
       "      <td>25.0</td>\n",
       "      <td>4.0</td>\n",
       "      <td>0.31</td>\n",
       "    </tr>\n",
       "    <tr>\n",
       "      <th>2.0</th>\n",
       "      <td>47.0</td>\n",
       "      <td>583.0</td>\n",
       "      <td>38.0</td>\n",
       "      <td>11.0</td>\n",
       "      <td>0.64</td>\n",
       "    </tr>\n",
       "    <tr>\n",
       "      <th>3.0</th>\n",
       "      <td>287.0</td>\n",
       "      <td>402.0</td>\n",
       "      <td>15.0</td>\n",
       "      <td>7.0</td>\n",
       "      <td>-0.27</td>\n",
       "    </tr>\n",
       "    <tr>\n",
       "      <th>4.0</th>\n",
       "      <td>203.0</td>\n",
       "      <td>495.0</td>\n",
       "      <td>21.0</td>\n",
       "      <td>5.0</td>\n",
       "      <td>-0.33</td>\n",
       "    </tr>\n",
       "  </tbody>\n",
       "</table>\n",
       "</div>"
      ],
      "text/plain": [
       "         x      y  sigma_y  sigma_x  rho_xy\n",
       "id                                         \n",
       "0.0  201.0  592.0     61.0      9.0   -0.84\n",
       "1.0  244.0  401.0     25.0      4.0    0.31\n",
       "2.0   47.0  583.0     38.0     11.0    0.64\n",
       "3.0  287.0  402.0     15.0      7.0   -0.27\n",
       "4.0  203.0  495.0     21.0      5.0   -0.33"
      ]
     },
     "execution_count": 8,
     "metadata": {},
     "output_type": "execute_result"
    }
   ],
   "source": [
    "dfhogg.head()"
   ]
  },
  {
   "cell_type": "code",
   "execution_count": 28,
   "metadata": {},
   "outputs": [
    {
     "data": {
      "image/png": "[encoded data removed]",
      "text/plain": [
       "<Figure size 432x432 with 3 Axes>"
      ]
     },
     "metadata": {},
     "output_type": "display_data"
    }
   ],
   "source": [
    "gd = sns.jointplot(x='x', y='y', data=dfhogg, kind='scatter', \n",
    "                   marginal_kws={'bins':12, 'rug':True, 'kde':True, \n",
    "                                 'kde_kws':{'cut':1}})\n",
    "dg"
   ]
  },
  {
   "cell_type": "code",
   "execution_count": 11,
   "metadata": {},
   "outputs": [
    {
     "data": {
      "image/png": "[encoded data removed]",
      "text/plain": [
       "<Figure size 432x432 with 1 Axes>"
      ]
     },
     "metadata": {},
     "output_type": "display_data"
    }
   ],
   "source": [
    "gd = sns.FacetGrid(dfhogg, height=6)\n",
    "_ = gd.map(plt.errorbar, 'x', 'y', 'sigma_y', 'sigma_x', marker=\"o\", ls='')"
   ]
  },
  {
   "cell_type": "markdown",
   "metadata": {},
   "source": [
    "**Observe**:  \n",
    "\n",
    "+ Even judging just by eye, you can see these datapoints mostly fall on / around a straight line with positive gradient\n",
    "+ It looks like a few of the datapoints may be outliers from such a line"
   ]
  },
  {
   "cell_type": "markdown",
   "metadata": {},
   "source": [
    "---"
   ]
  },
  {
   "cell_type": "markdown",
   "metadata": {},
   "source": [
    "# 2. Basic Feature Engineering"
   ]
  },
  {
   "cell_type": "markdown",
   "metadata": {},
   "source": [
    "## 3.1 Feature Engineering"
   ]
  },
  {
   "cell_type": "markdown",
   "metadata": {},
   "source": [
    "### 3.1.1 Declare Features for Use"
   ]
  },
  {
   "cell_type": "markdown",
   "metadata": {},
   "source": [
    "I'm lazy, this is the same as per the [data generation section above](#2.2-Create-Dependent-Observed-Feature)"
   ]
  },
  {
   "cell_type": "markdown",
   "metadata": {},
   "source": [
    "### 3.1.2 Split into Train and Test sets"
   ]
  },
  {
   "cell_type": "markdown",
   "metadata": {},
   "source": [
    "Note stratify by `model_region` because I want to simulate a steady-state of broker production from all regions"
   ]
  },
  {
   "cell_type": "code",
   "execution_count": 28,
   "metadata": {},
   "outputs": [
    {
     "name": "stdout",
     "output_type": "stream",
     "text": [
      "train: 1627, test: 407\n"
     ]
    }
   ],
   "source": [
    "df_train, df_test = train_test_split(df, test_size=0.2, stratify=df['model_region'])\n",
    "print('train: {}, test: {}'.format(len(df_train), len(df_test)))"
   ]
  },
  {
   "cell_type": "markdown",
   "metadata": {},
   "source": [
    "### 3.1.3 Transform to `fml_like`"
   ]
  },
  {
   "cell_type": "markdown",
   "metadata": {},
   "source": [
    "Note: be careful here - I'm only using this `fml_like` in order to use convenient patsy transforms. This is NOT a statement of a linear model that I want to use as a proposed generative model"
   ]
  },
  {
   "cell_type": "code",
   "execution_count": 29,
   "metadata": {},
   "outputs": [],
   "source": [
    "fml_like = 'model_region + np.floor_divide(frs,5) + np.log(tiv_value)'"
   ]
  },
  {
   "cell_type": "code",
   "execution_count": 30,
   "metadata": {},
   "outputs": [
    {
     "data": {
      "text/html": [
       "<div>\n",
       "<style scoped>\n",
       "    .dataframe tbody tr th:only-of-type {\n",
       "        vertical-align: middle;\n",
       "    }\n",
       "\n",
       "    .dataframe tbody tr th {\n",
       "        vertical-align: top;\n",
       "    }\n",
       "\n",
       "    .dataframe thead th {\n",
       "        text-align: right;\n",
       "    }\n",
       "</style>\n",
       "<table border=\"1\" class=\"dataframe\">\n",
       "  <thead>\n",
       "    <tr style=\"text-align: right;\">\n",
       "      <th></th>\n",
       "      <th>Intercept</th>\n",
       "      <th>model_region[T.region_b]</th>\n",
       "      <th>model_region[T.region_c]</th>\n",
       "      <th>model_region[T.region_d]</th>\n",
       "      <th>model_region[T.region_e]</th>\n",
       "      <th>np.floor_divide(frs, 5)</th>\n",
       "      <th>np.log(tiv_value)</th>\n",
       "    </tr>\n",
       "    <tr>\n",
       "      <th>oid</th>\n",
       "      <th></th>\n",
       "      <th></th>\n",
       "      <th></th>\n",
       "      <th></th>\n",
       "      <th></th>\n",
       "      <th></th>\n",
       "      <th></th>\n",
       "    </tr>\n",
       "  </thead>\n",
       "  <tbody>\n",
       "    <tr>\n",
       "      <td>o479</td>\n",
       "      <td>1.0</td>\n",
       "      <td>0.0</td>\n",
       "      <td>1.0</td>\n",
       "      <td>0.0</td>\n",
       "      <td>0.0</td>\n",
       "      <td>10.0</td>\n",
       "      <td>14.702354</td>\n",
       "    </tr>\n",
       "    <tr>\n",
       "      <td>o308</td>\n",
       "      <td>1.0</td>\n",
       "      <td>0.0</td>\n",
       "      <td>0.0</td>\n",
       "      <td>0.0</td>\n",
       "      <td>0.0</td>\n",
       "      <td>14.0</td>\n",
       "      <td>14.050975</td>\n",
       "    </tr>\n",
       "    <tr>\n",
       "      <td>o1498</td>\n",
       "      <td>1.0</td>\n",
       "      <td>0.0</td>\n",
       "      <td>0.0</td>\n",
       "      <td>0.0</td>\n",
       "      <td>0.0</td>\n",
       "      <td>12.0</td>\n",
       "      <td>14.285669</td>\n",
       "    </tr>\n",
       "    <tr>\n",
       "      <td>o820</td>\n",
       "      <td>1.0</td>\n",
       "      <td>0.0</td>\n",
       "      <td>1.0</td>\n",
       "      <td>0.0</td>\n",
       "      <td>0.0</td>\n",
       "      <td>9.0</td>\n",
       "      <td>13.495834</td>\n",
       "    </tr>\n",
       "    <tr>\n",
       "      <td>o1704</td>\n",
       "      <td>1.0</td>\n",
       "      <td>1.0</td>\n",
       "      <td>0.0</td>\n",
       "      <td>0.0</td>\n",
       "      <td>0.0</td>\n",
       "      <td>18.0</td>\n",
       "      <td>13.682179</td>\n",
       "    </tr>\n",
       "  </tbody>\n",
       "</table>\n",
       "</div>"
      ],
      "text/plain": [
       "       Intercept  model_region[T.region_b]  model_region[T.region_c]  \\\n",
       "oid                                                                    \n",
       "o479         1.0                       0.0                       1.0   \n",
       "o308         1.0                       0.0                       0.0   \n",
       "o1498        1.0                       0.0                       0.0   \n",
       "o820         1.0                       0.0                       1.0   \n",
       "o1704        1.0                       1.0                       0.0   \n",
       "\n",
       "       model_region[T.region_d]  model_region[T.region_e]  \\\n",
       "oid                                                         \n",
       "o479                        0.0                       0.0   \n",
       "o308                        0.0                       0.0   \n",
       "o1498                       0.0                       0.0   \n",
       "o820                        0.0                       0.0   \n",
       "o1704                       0.0                       0.0   \n",
       "\n",
       "       np.floor_divide(frs, 5)  np.log(tiv_value)  \n",
       "oid                                                \n",
       "o479                      10.0          14.702354  \n",
       "o308                      14.0          14.050975  \n",
       "o1498                     12.0          14.285669  \n",
       "o820                       9.0          13.495834  \n",
       "o1704                     18.0          13.682179  "
      ]
     },
     "execution_count": 30,
     "metadata": {},
     "output_type": "execute_result"
    }
   ],
   "source": [
    "df_ex_train = pt.dmatrix(fml_like, df_train, NA_action='raise', return_type='dataframe')\n",
    "design_info = df_ex_train.design_info\n",
    "df_ex_train.head()"
   ]
  },
  {
   "cell_type": "code",
   "execution_count": null,
   "metadata": {},
   "outputs": [],
   "source": [
    "\n",
    "\n",
    "## standardize (mean center and divide by 1 sd)\n",
    "dfhoggs = (dfhogg[['x','y']] - dfhogg[['x','y']].mean(0)) / dfhogg[['x','y']].std(0)\n",
    "dfhoggs['sigma_y'] = dfhogg['sigma_y'] / dfhogg['y'].std(0)\n",
    "dfhoggs['sigma_x'] = dfhogg['sigma_x'] / dfhogg['x'].std(0)\n",
    "\n",
    "## create xlims ylims for plotting\n",
    "xlims = (dfhoggs['x'].min() - np.ptp(dfhoggs['x'])/5\n",
    "                 ,dfhoggs['x'].max() + np.ptp(dfhoggs['x'])/5)\n",
    "ylims = (dfhoggs['y'].min() - np.ptp(dfhoggs['y'])/5\n",
    "                 ,dfhoggs['y'].max() + np.ptp(dfhoggs['y'])/5)\n",
    "\n",
    "## scatterplot the standardized data\n",
    "g = sns.FacetGrid(dfhoggs, size=8)\n",
    "_ = g.map(plt.errorbar, 'x', 'y', 'sigma_y', 'sigma_x', marker=\"o\", ls='')\n",
    "_ = g.axes[0][0].set_ylim(ylims)\n",
    "_ = g.axes[0][0].set_xlim(xlims)\n",
    "\n",
    "plt.subplots_adjust(top=0.92)\n",
    "_ = g.fig.suptitle('Scatterplot of Hogg 2010 dataset after standardization', fontsize=16)"
   ]
  },
  {
   "cell_type": "code",
   "execution_count": 31,
   "metadata": {},
   "outputs": [
    {
     "data": {
      "text/html": [
       "<div>\n",
       "<style scoped>\n",
       "    .dataframe tbody tr th:only-of-type {\n",
       "        vertical-align: middle;\n",
       "    }\n",
       "\n",
       "    .dataframe tbody tr th {\n",
       "        vertical-align: top;\n",
       "    }\n",
       "\n",
       "    .dataframe thead th {\n",
       "        text-align: right;\n",
       "    }\n",
       "</style>\n",
       "<table border=\"1\" class=\"dataframe\">\n",
       "  <thead>\n",
       "    <tr style=\"text-align: right;\">\n",
       "      <th></th>\n",
       "      <th>mcr</th>\n",
       "    </tr>\n",
       "    <tr>\n",
       "      <th>oid</th>\n",
       "      <th></th>\n",
       "    </tr>\n",
       "  </thead>\n",
       "  <tbody>\n",
       "    <tr>\n",
       "      <td>o479</td>\n",
       "      <td>1.289634</td>\n",
       "    </tr>\n",
       "    <tr>\n",
       "      <td>o308</td>\n",
       "      <td>1.437681</td>\n",
       "    </tr>\n",
       "    <tr>\n",
       "      <td>o1498</td>\n",
       "      <td>2.435799</td>\n",
       "    </tr>\n",
       "    <tr>\n",
       "      <td>o820</td>\n",
       "      <td>0.984117</td>\n",
       "    </tr>\n",
       "    <tr>\n",
       "      <td>o1704</td>\n",
       "      <td>2.300175</td>\n",
       "    </tr>\n",
       "  </tbody>\n",
       "</table>\n",
       "</div>"
      ],
      "text/plain": [
       "            mcr\n",
       "oid            \n",
       "o479   1.289634\n",
       "o308   1.437681\n",
       "o1498  2.435799\n",
       "o820   0.984117\n",
       "o1704  2.300175"
      ]
     },
     "execution_count": 31,
     "metadata": {},
     "output_type": "execute_result"
    }
   ],
   "source": [
    "df_en_train = df_train['market_price'] / df_train['technical_price']\n",
    "df_en_train = df_en_train.to_frame(name='mcr')\n",
    "df_en_train.head()"
   ]
  },
  {
   "cell_type": "markdown",
   "metadata": {},
   "source": [
    "### 3.1.4 Standardize exogs to 2sd on training set"
   ]
  },
  {
   "cell_type": "code",
   "execution_count": 32,
   "metadata": {},
   "outputs": [
    {
     "data": {
      "text/html": [
       "<div>\n",
       "<style scoped>\n",
       "    .dataframe tbody tr th:only-of-type {\n",
       "        vertical-align: middle;\n",
       "    }\n",
       "\n",
       "    .dataframe tbody tr th {\n",
       "        vertical-align: top;\n",
       "    }\n",
       "\n",
       "    .dataframe thead th {\n",
       "        text-align: right;\n",
       "    }\n",
       "</style>\n",
       "<table border=\"1\" class=\"dataframe\">\n",
       "  <thead>\n",
       "    <tr style=\"text-align: right;\">\n",
       "      <th></th>\n",
       "      <th>mns</th>\n",
       "      <th>sdevs</th>\n",
       "    </tr>\n",
       "  </thead>\n",
       "  <tbody>\n",
       "    <tr>\n",
       "      <td>np.floor_divide(frs, 5)</td>\n",
       "      <td>13.283958</td>\n",
       "      <td>3.338403</td>\n",
       "    </tr>\n",
       "    <tr>\n",
       "      <td>np.log(tiv_value)</td>\n",
       "      <td>14.122177</td>\n",
       "      <td>0.593625</td>\n",
       "    </tr>\n",
       "  </tbody>\n",
       "</table>\n",
       "</div>"
      ],
      "text/plain": [
       "                               mns     sdevs\n",
       "np.floor_divide(frs, 5)  13.283958  3.338403\n",
       "np.log(tiv_value)        14.122177  0.593625"
      ]
     },
     "execution_count": 32,
     "metadata": {},
     "output_type": "execute_result"
    }
   ],
   "source": [
    "col_idx_numerics = 1 + sum([1 for n in design_info.column_names \n",
    "                            if re.search(r'\\[T\\.', n)])\n",
    "\n",
    "stdzr = FunctionTransformer(standardize_mx, validate=True, \n",
    "                            kw_args={'colidx':col_idx_numerics, 'scale':2})\n",
    "\n",
    "mx_exs_train, mns_train, sdevs_train = stdzr.fit_transform(df_ex_train)\n",
    "\n",
    "pd.DataFrame({'mns': mns_train, 'sdevs':sdevs_train}, \n",
    "             index=design_info.column_names[col_idx_numerics:])"
   ]
  },
  {
   "cell_type": "code",
   "execution_count": 33,
   "metadata": {},
   "outputs": [
    {
     "data": {
      "image/png": "[encoded data removed]",
      "text/plain": [
       "<Figure size 360x360 with 6 Axes>"
      ]
     },
     "metadata": {},
     "output_type": "display_data"
    }
   ],
   "source": [
    "g = sns.pairplot(pd.DataFrame(mx_exs_train[::2,col_idx_numerics:], columns=design_info.column_names[col_idx_numerics:]))"
   ]
  },
  {
   "cell_type": "code",
   "execution_count": null,
   "metadata": {},
   "outputs": [],
   "source": []
  },
  {
   "cell_type": "code",
   "execution_count": null,
   "metadata": {},
   "outputs": [],
   "source": []
  },
  {
   "cell_type": "code",
   "execution_count": null,
   "metadata": {},
   "outputs": [],
   "source": []
  },
  {
   "cell_type": "markdown",
   "metadata": {},
   "source": [
    "---"
   ]
  },
  {
   "cell_type": "markdown",
   "metadata": {},
   "source": [
    "# 3. Demo a Simple Linear Model"
   ]
  },
  {
   "cell_type": "markdown",
   "metadata": {},
   "source": [
    "Before we get more advanced, I wat to demo the fit of a simple linear model with Normal likelihood function. The priors are also Normally distributed, so this behaves like an OLS with Ridge Regression (L2 norm).\n",
    "\n",
    "$$\\bf{\\hat{y}} \\sim \\mathcal{N}(\\beta^{T} \\bf{x}_{i} + \\sigma)$$\n",
    "\n",
    "where:  \n",
    "\n",
    "+ $\\beta$ = $\\{1, \\beta_{j \\in X_{j}}\\}$  <-- linear coefs in $X_{j}$, in this case `1 + x`\n",
    "+ $\\sigma$ = model error <-- in this case we set this to the measured error `sigma_y`"
   ]
  },
  {
   "cell_type": "markdown",
   "metadata": {},
   "source": [
    "## 3.1 Create Model Spec"
   ]
  },
  {
   "cell_type": "code",
   "execution_count": null,
   "metadata": {},
   "outputs": [],
   "source": [
    "with pm.Model() as mdl_ols:\n",
    "    \n",
    "    ## Define weakly informative Normal priors to give Ridge regression\n",
    "    b0 = pm.Normal('b0_intercept', mu=0, sd=100)\n",
    "    b1 = pm.Normal('b1_slope', mu=0, sd=100)\n",
    " \n",
    "    ## Define linear model\n",
    "    yest = b0 + b1 * dfhoggs['x']\n",
    "    \n",
    "    ## Use y error from dataset, convert into theano variable\n",
    "    sigma_y = thno.shared(np.asarray(dfhoggs['sigma_y'],\n",
    "                            dtype=thno.config.floatX), name='sigma_y')\n",
    "\n",
    "    ## Define Normal likelihood\n",
    "    likelihood = pm.Normal('likelihood', mu=yest, sd=sigma_y, observed=dfhoggs['y'])\n"
   ]
  },
  {
   "cell_type": "markdown",
   "metadata": {},
   "source": [
    "##### Sample"
   ]
  },
  {
   "cell_type": "code",
   "execution_count": null,
   "metadata": {},
   "outputs": [],
   "source": [
    "with mdl_ols:\n",
    "\n",
    "    ## find MAP using Powell, seems to be more robust\n",
    "    start_MAP = pm.find_MAP(fmin=optimize.fmin_powell, disp=True)\n",
    "\n",
    "    ## take samples\n",
    "    traces_ols = pm.sample(2000, start=start_MAP, step=pm.NUTS(), progressbar=True)"
   ]
  },
  {
   "cell_type": "markdown",
   "metadata": {},
   "source": [
    "##### View Traces\n",
    "\n",
    "**NOTE**: I'll 'burn' the traces to only retain the final 1000 samples"
   ]
  },
  {
   "cell_type": "code",
   "execution_count": null,
   "metadata": {},
   "outputs": [],
   "source": [
    "_ = pm.traceplot(traces_ols[-1000:], figsize=(12,len(traces_ols.varnames)*1.5),\n",
    "                lines={k: v['mean'] for k, v in pm.df_summary(traces_ols[-1000:]).iterrows()})"
   ]
  },
  {
   "cell_type": "markdown",
   "metadata": {},
   "source": [
    "**NOTE:** We'll illustrate this OLS fit and compare to the datapoints in the final plot"
   ]
  },
  {
   "cell_type": "markdown",
   "metadata": {},
   "source": [
    "---\n",
    "\n",
    "---"
   ]
  },
  {
   "cell_type": "markdown",
   "metadata": {},
   "source": [
    "# Create Robust Model: Student-T Method"
   ]
  },
  {
   "cell_type": "markdown",
   "metadata": {},
   "source": [
    "I've added this brief section in order to directly compare the Student-T based method exampled in Thomas Wiecki's notebook in the [PyMC3 documentation](http://pymc-devs.github.io/pymc3/GLM-robust/)\n",
    "\n",
    "Instead of using a Normal distribution for the likelihood, we use a Student-T, which has fatter tails. In theory this allows outliers to have a smaller mean square error in the likelihood, and thus have less influence on the regression estimation. This method does not produce inlier / outlier flags but is simpler and faster to run than the Signal Vs Noise model below, so a comparison seems worthwhile.\n",
    "\n",
    "**Note:** we'll constrain the Student-T 'degrees of freedom' parameter `nu` to be an integer, but otherwise leave it as just another stochastic to be inferred: no need for prior knowledge."
   ]
  },
  {
   "cell_type": "markdown",
   "metadata": {},
   "source": [
    "##### Define Model"
   ]
  },
  {
   "cell_type": "code",
   "execution_count": null,
   "metadata": {},
   "outputs": [],
   "source": [
    "with pm.Model() as mdl_studentt:\n",
    "    \n",
    "    ## Define weakly informative Normal priors to give Ridge regression\n",
    "    b0 = pm.Normal('b0_intercept', mu=0, sd=100)\n",
    "    b1 = pm.Normal('b1_slope', mu=0, sd=100)\n",
    " \n",
    "    ## Define linear model\n",
    "    yest = b0 + b1 * dfhoggs['x']\n",
    "    \n",
    "    ## Use y error from dataset, convert into theano variable\n",
    "    sigma_y = thno.shared(np.asarray(dfhoggs['sigma_y'],\n",
    "                            dtype=thno.config.floatX), name='sigma_y')\n",
    "    \n",
    "    ## define prior for Student T degrees of freedom\n",
    "    nu = pm.DiscreteUniform('nu', lower=1, upper=100)\n",
    "\n",
    "    ## Define Student T likelihood\n",
    "    likelihood = pm.StudentT('likelihood', mu=yest, sd=sigma_y, nu=nu\n",
    "                           ,observed=dfhoggs['y'])\n"
   ]
  },
  {
   "cell_type": "markdown",
   "metadata": {},
   "source": [
    "##### Sample"
   ]
  },
  {
   "cell_type": "code",
   "execution_count": null,
   "metadata": {},
   "outputs": [],
   "source": [
    "with mdl_studentt:\n",
    "\n",
    "    ## find MAP using Powell, seems to be more robust\n",
    "    start_MAP = pm.find_MAP(fmin=optimize.fmin_powell, disp=True)\n",
    "\n",
    "    ## two-step sampling to allow Metropolis for nu (which is discrete)\n",
    "    step1 = pm.NUTS([b0, b1])\n",
    "    step2 = pm.Metropolis([nu])\n",
    "    \n",
    "    ## take samples\n",
    "    traces_studentt = pm.sample(2000, start=start_MAP, step=[step1, step2], progressbar=True)"
   ]
  },
  {
   "cell_type": "markdown",
   "metadata": {},
   "source": [
    "##### View Traces"
   ]
  },
  {
   "cell_type": "code",
   "execution_count": null,
   "metadata": {},
   "outputs": [],
   "source": [
    "_ = pm.traceplot(traces_studentt[-1000:]\n",
    "            ,figsize=(12,len(traces_studentt.varnames)*1.5)\n",
    "            ,lines={k: v['mean'] for k, v in pm.df_summary(traces_studentt[-1000:]).iterrows()})"
   ]
  },
  {
   "cell_type": "markdown",
   "metadata": {},
   "source": [
    "**Observe:**\n",
    "\n",
    "+ Both parameters `b0` and `b1` show quite a skew to the right, possibly this is the action of a few samples regressing closer to the OLS estimate which is towards the left\n",
    "+ The `nu` parameter seems very happy to stick at `nu = 1`, indicating that a fat-tailed Student-T likelihood has a better fit than a thin-tailed (Normal-like) Student-T likelihood.\n",
    "+ The inference sampling also ran very quickly, almost as quickly as the conventional OLS\n",
    "\n",
    "\n",
    "**NOTE:** We'll illustrate this Student-T fit and compare to the datapoints in the final plot"
   ]
  },
  {
   "cell_type": "markdown",
   "metadata": {},
   "source": [
    "---\n",
    "\n",
    "---"
   ]
  },
  {
   "cell_type": "markdown",
   "metadata": {},
   "source": [
    "# Create Robust Model with Outliers: Hogg Method"
   ]
  },
  {
   "cell_type": "markdown",
   "metadata": {},
   "source": [
    "Please read the paper (Hogg 2010) and Jake Vanderplas' code for more complete information about the modelling technique.\n",
    "\n",
    "The general idea is to create a 'mixture' model whereby datapoints can be described by either the linear model (inliers) or a modified linear model with different mean and larger variance (outliers).\n",
    "\n",
    "\n",
    "The likelihood is evaluated over a mixture of two likelihoods, one for 'inliers', one for 'outliers'. A Bernouilli distribution is used to randomly assign datapoints in N to either the inlier or outlier groups, and we sample the model as usual to infer robust model parameters and inlier / outlier flags:\n",
    "\n",
    "$$\n",
    "\\mathcal{logL} = \\sum_{i}^{i=N} log \\left[ \\frac{(1 - B_{i})}{\\sqrt{2 \\pi \\sigma_{in}^{2}}} exp \\left( - \\frac{(x_{i} - \\mu_{in})^{2}}{2\\sigma_{in}^{2}} \\right) \\right] + \\sum_{i}^{i=N} log \\left[ \\frac{B_{i}}{\\sqrt{2 \\pi (\\sigma_{in}^{2} + \\sigma_{out}^{2})}} exp \\left( - \\frac{(x_{i}- \\mu_{out})^{2}}{2(\\sigma_{in}^{2} + \\sigma_{out}^{2})} \\right) \\right]\n",
    "$$\n",
    "\n",
    "where:  \n",
    "$\\bf{B}$ is Bernoulli-distibuted $B_{i} \\in [0_{(inlier)},1_{(outlier)}]$\n",
    "\n"
   ]
  },
  {
   "cell_type": "markdown",
   "metadata": {},
   "source": [
    "##### Define model"
   ]
  },
  {
   "cell_type": "code",
   "execution_count": null,
   "metadata": {},
   "outputs": [],
   "source": [
    "def logp_signoise(yobs, is_outlier, yest_in, sigma_y_in, yest_out, sigma_y_out):\n",
    "    '''\n",
    "    Define custom loglikelihood for inliers vs outliers. \n",
    "    NOTE: in this particular case we don't need to use theano's @as_op \n",
    "    decorator because (as stated by Twiecki in conversation) that's only \n",
    "    required if the likelihood cannot be expressed as a theano expression.\n",
    "    We also now get the gradient computation for free.\n",
    "    '''   \n",
    "    \n",
    "    # likelihood for inliers\n",
    "    pdfs_in = T.exp(-(yobs - yest_in + 1e-4)**2 / (2 * sigma_y_in**2)) \n",
    "    pdfs_in /= T.sqrt(2 * np.pi * sigma_y_in**2)\n",
    "    logL_in = T.sum(T.log(pdfs_in) * (1 - is_outlier))\n",
    "\n",
    "    # likelihood for outliers\n",
    "    pdfs_out = T.exp(-(yobs - yest_out + 1e-4)**2 / (2 * (sigma_y_in**2 + sigma_y_out**2))) \n",
    "    pdfs_out /= T.sqrt(2 * np.pi * (sigma_y_in**2 + sigma_y_out**2))\n",
    "    logL_out = T.sum(T.log(pdfs_out) * is_outlier)\n",
    "\n",
    "    return logL_in + logL_out\n"
   ]
  },
  {
   "cell_type": "code",
   "execution_count": null,
   "metadata": {},
   "outputs": [],
   "source": [
    "with pm.Model() as mdl_signoise:\n",
    "    \n",
    "    ## Define weakly informative Normal priors to give Ridge regression\n",
    "    b0 = pm.Normal('b0_intercept', mu=0, sd=100)\n",
    "    b1 = pm.Normal('b1_slope', mu=0, sd=100)\n",
    " \n",
    "    ## Define linear model\n",
    "    yest_in = b0 + b1 * dfhoggs['x']\n",
    "\n",
    "    ## Define weakly informative priors for the mean and variance of outliers\n",
    "    yest_out = pm.Normal('yest_out', mu=0, sd=100)\n",
    "    sigma_y_out = pm.HalfNormal('sigma_y_out', sd=100)\n",
    "\n",
    "    ## Define Bernoulli inlier / outlier flags according to a hyperprior \n",
    "    ## fraction of outliers, itself constrained to [0,.5] for symmetry\n",
    "    frac_outliers = pm.Uniform('frac_outliers', lower=0., upper=.5)\n",
    "    is_outlier = pm.Bernoulli('is_outlier', p=frac_outliers, shape=dfhoggs.shape[0])  \n",
    "       \n",
    "    ## Extract observed y and sigma_y from dataset, encode as theano objects\n",
    "    yobs = thno.shared(np.asarray(dfhoggs['y'], dtype=thno.config.floatX), name='yobs')\n",
    "    sigma_y_in = thno.shared(np.asarray(dfhoggs['sigma_y']\n",
    "                                , dtype=thno.config.floatX), name='sigma_y_in')\n",
    "        \n",
    "    ## Use custom likelihood using DensityDist\n",
    "    likelihood = pm.DensityDist('likelihood', logp_signoise,\n",
    "                        observed={'yobs':yobs, 'is_outlier':is_outlier,\n",
    "                                  'yest_in':yest_in, 'sigma_y_in':sigma_y_in,\n",
    "                                  'yest_out':yest_out, 'sigma_y_out':sigma_y_out})\n"
   ]
  },
  {
   "cell_type": "markdown",
   "metadata": {},
   "source": [
    "##### Sample"
   ]
  },
  {
   "cell_type": "code",
   "execution_count": null,
   "metadata": {},
   "outputs": [],
   "source": [
    "with mdl_signoise:\n",
    "\n",
    "    ## two-step sampling to create Bernoulli inlier/outlier flags\n",
    "    step1 = pm.NUTS([frac_outliers, yest_out, sigma_y_out, b0, b1])\n",
    "    step2 = pm.BinaryMetropolis([is_outlier], tune_interval=100)\n",
    "\n",
    "    ## find MAP using Powell, seems to be more robust\n",
    "    start_MAP = pm.find_MAP(fmin=optimize.fmin_powell, disp=True)\n",
    "\n",
    "    ## take samples\n",
    "    traces_signoise = pm.sample(2000, start=start_MAP, step=[step1,step2], progressbar=True)"
   ]
  },
  {
   "cell_type": "markdown",
   "metadata": {},
   "source": [
    "##### View Traces"
   ]
  },
  {
   "cell_type": "code",
   "execution_count": null,
   "metadata": {},
   "outputs": [],
   "source": [
    "_ = pm.traceplot(traces_signoise[-1000:], figsize=(12,len(traces_signoise.varnames)*1.5),\n",
    "            lines={k: v['mean'] for k, v in pm.df_summary(traces_signoise[-1000:]).iterrows()})"
   ]
  },
  {
   "cell_type": "markdown",
   "metadata": {},
   "source": [
    "**NOTE:**\n",
    "\n",
    "+ During development I've found that 3 datapoints id=[1,2,3] are always indicated as outliers, but the remaining ordering of datapoints by decreasing outlier-hood is unstable between runs: the posterior surface appears to have a small number of solutions with very similar probability.\n",
    "+ The NUTS sampler seems to work okay, and indeed it's a nice opportunity to demonstrate a custom likelihood which is possible to express as a theano function (thus allowing a gradient-based sampler like NUTS). However, with a more complicated dataset, I would spend time understanding this instability and potentially prefer using more samples under Metropolis-Hastings."
   ]
  },
  {
   "cell_type": "markdown",
   "metadata": {},
   "source": [
    "---\n",
    "\n",
    "---"
   ]
  },
  {
   "cell_type": "markdown",
   "metadata": {},
   "source": [
    "# Declare Outliers and Compare Plots"
   ]
  },
  {
   "cell_type": "markdown",
   "metadata": {},
   "source": [
    "##### View ranges for inliers / outlier predictions"
   ]
  },
  {
   "cell_type": "markdown",
   "metadata": {},
   "source": [
    "At each step of the traces, each datapoint may be either an inlier or outlier. We hope that the datapoints spend an unequal time being one state or the other, so let's take a look at the simple count of states for each of the 20 datapoints."
   ]
  },
  {
   "cell_type": "code",
   "execution_count": null,
   "metadata": {},
   "outputs": [],
   "source": [
    "outlier_melt = pd.melt(pd.DataFrame(traces_signoise['is_outlier', -1000:],\n",
    "                                   columns=['[{}]'.format(int(d)) for d in dfhoggs.index]),\n",
    "                      var_name='datapoint_id', value_name='is_outlier')\n",
    "ax0 = sns.pointplot(y='datapoint_id', x='is_outlier', data=outlier_melt,\n",
    "                   kind='point', join=False, ci=None, size=4, aspect=2)\n",
    "\n",
    "_ = ax0.vlines([0,1], 0, 19, ['b','r'], '--')\n",
    "\n",
    "_ = ax0.set_xlim((-0.1,1.1))\n",
    "_ = ax0.set_xticks(np.arange(0, 1.1, 0.1))\n",
    "_ = ax0.set_xticklabels(['{:.0%}'.format(t) for t in np.arange(0,1.1,0.1)])\n",
    "\n",
    "_ = ax0.yaxis.grid(True, linestyle='-', which='major', color='w', alpha=0.4)\n",
    "_ = ax0.set_title('Prop. of the trace where datapoint is an outlier')\n",
    "_ = ax0.set_xlabel('Prop. of the trace where is_outlier == 1')"
   ]
  },
  {
   "cell_type": "markdown",
   "metadata": {},
   "source": [
    "**Observe**:\n",
    "\n",
    "+ The plot above shows the number of samples in the traces in which each datapoint is marked as an outlier, expressed as a percentage.\n",
    "+ In particular, 3 points [1, 2, 3] spend >=95% of their time as outliers\n",
    "+ Contrastingly, points at the other end of the plot close to 0% are our strongest inliers.\n",
    "+ For comparison, the mean posterior value of `frac_outliers` is ~0.35, corresponding to roughly 7 of the 20 datapoints. You can see these 7 datapoints in the plot above, all those with a value >50% or thereabouts.\n",
    "+ However, only 3 of these points are outliers >=95% of the time. \n",
    "+ See note above regarding instability between runs.\n",
    "\n",
    "The 95% cutoff we choose is subjective and arbitrary, but I prefer it for now, so let's declare these 3 to be outliers and see how it looks compared to Jake Vanderplas' outliers, which were declared in a slightly different way as points with means above 0.68."
   ]
  },
  {
   "cell_type": "markdown",
   "metadata": {},
   "source": [
    "##### Declare outliers\n",
    "\n",
    "**Note:**\n",
    "+ I will declare outliers to be datapoints that have value == 1 at the 5-percentile cutoff, i.e. in the percentiles from 5 up to 100, their values are 1. \n",
    "+ Try for yourself altering cutoff to larger values, which leads to an objective ranking of outlier-hood."
   ]
  },
  {
   "cell_type": "code",
   "execution_count": null,
   "metadata": {},
   "outputs": [],
   "source": [
    "cutoff = 5\n",
    "dfhoggs['outlier'] = np.percentile(traces_signoise[-1000:]['is_outlier'],cutoff, axis=0)\n",
    "dfhoggs['outlier'].value_counts()"
   ]
  },
  {
   "cell_type": "markdown",
   "metadata": {},
   "source": [
    "## Posterior Prediction Plots for OLS vs StudentT vs SignalNoise"
   ]
  },
  {
   "cell_type": "code",
   "execution_count": null,
   "metadata": {},
   "outputs": [],
   "source": [
    "g = sns.FacetGrid(dfhoggs, size=8, hue='outlier', hue_order=[True,False],\n",
    "                  palette='Set1', legend_out=False)\n",
    "\n",
    "lm = lambda x, samp: samp['b0_intercept'] + samp['b1_slope'] * x\n",
    "\n",
    "pm.glm.plot_posterior_predictive(traces_ols[-1000:],\n",
    "        eval=np.linspace(-3, 3, 10), lm=lm, samples=200, color='#22CC00', alpha=.2)\n",
    "\n",
    "pm.glm.plot_posterior_predictive(traces_studentt[-1000:], lm=lm,\n",
    "        eval=np.linspace(-3, 3, 10), samples=200, color='#FFA500', alpha=.5)\n",
    "\n",
    "pm.glm.plot_posterior_predictive(traces_signoise[-1000:], lm=lm,\n",
    "        eval=np.linspace(-3, 3, 10), samples=200, color='#357EC7', alpha=.3)\n",
    "\n",
    "_ = g.map(plt.errorbar, 'x', 'y', 'sigma_y', 'sigma_x', marker=\"o\", ls='').add_legend()\n",
    "\n",
    "_ = g.axes[0][0].annotate('OLS Fit: Green\\nStudent-T Fit: Orange\\nSignal Vs Noise Fit: Blue',\n",
    "                          size='x-large', xy=(1,0), xycoords='axes fraction',\n",
    "                          xytext=(-160,10), textcoords='offset points')\n",
    "_ = g.axes[0][0].set_ylim(ylims)\n",
    "_ = g.axes[0][0].set_xlim(xlims)"
   ]
  },
  {
   "cell_type": "markdown",
   "metadata": {},
   "source": [
    "**Observe**:\n",
    "\n",
    "+ The posterior preditive fit for:\n",
    "    + the **OLS model** is shown in **Green** and as expected, it doesn't appear to fit the majority of our datapoints very well, skewed by outliers\n",
    "    + the **Robust Student-T model** is shown in **Orange** and does appear to fit the 'main axis' of datapoints quite well, ignoring outliers\n",
    "    + the **Robust Signal vs Noise model** is shown in **Blue** and also appears to fit the 'main axis' of datapoints rather well, ignoring outliers.\n",
    "    \n",
    "    \n",
    "+ We see that the **Robust Signal vs Noise model** also yields specific estimates of _which_ datapoints are outliers:\n",
    "    + 17 'inlier' datapoints, in **Blue** and\n",
    "    + 3 'outlier' datapoints shown in **Red**.\n",
    "    + From a simple visual inspection, the classification seems fair, and agrees with Jake Vanderplas' findings.\n",
    "    \n",
    "    \n",
    "+ Overall, it seems that:\n",
    "    + the **Signal vs Noise model** behaves as promised, yielding a robust regression estimate and explicit labelling of inliers / outliers, but\n",
    "    + the **Signal vs Noise model** is quite complex and whilst the regression seems robust and stable, the actual inlier / outlier labelling seems slightly unstable\n",
    "    + if you simply want a robust regression without inlier / outlier labelling, the **Student-T model** may be a good compromise, offering a simple model, quick sampling, and a very similar estimate."
   ]
  },
  {
   "cell_type": "markdown",
   "metadata": {},
   "source": [
    "---"
   ]
  },
  {
   "cell_type": "markdown",
   "metadata": {},
   "source": [
    "Example originally contributed by Jonathan Sedar 2015-12-21 [github.com/jonsedar](https://github.com/jonsedar)"
   ]
  }
 ],
 "metadata": {
  "anaconda-cloud": {},
  "kernelspec": {
   "display_name": "Python 3",
   "language": "python",
   "name": "python3"
  },
  "language_info": {
   "codemirror_mode": {
    "name": "ipython",
    "version": 3
   },
   "file_extension": ".py",
   "mimetype": "text/x-python",
   "name": "python",
   "nbconvert_exporter": "python",
   "pygments_lexer": "ipython3",
   "version": "3.6.9"
  }
 },
 "nbformat": 4,
 "nbformat_minor": 1
}
